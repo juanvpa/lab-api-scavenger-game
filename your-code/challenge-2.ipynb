{
 "cells": [
  {
   "cell_type": "markdown",
   "id": "threaded-asbestos",
   "metadata": {},
   "source": [
    "# Challenge 2: Count Commits\n",
    "\n",
    "Count how many commits were made in the past week.\n",
    "\n",
    "Obtain all the commits made in the past week via API, which is a JSON array that contains multiple commit objects.\n",
    "\n",
    "Count how many commit objects are contained in the array."
   ]
  },
  {
   "cell_type": "markdown",
   "id": "norwegian-praise",
   "metadata": {},
   "source": [
    "⚠️ **Remember to limit your output before submission**."
   ]
  },
  {
   "cell_type": "code",
   "execution_count": 1,
   "id": "a62d49d2",
   "metadata": {},
   "outputs": [],
   "source": [
    "# IMPORTO TODO LO NECESARIO"
   ]
  },
  {
   "cell_type": "code",
   "execution_count": 2,
   "id": "4491fd1d",
   "metadata": {},
   "outputs": [],
   "source": [
    "import json\n",
    "import requests"
   ]
  },
  {
   "cell_type": "code",
   "execution_count": 3,
   "id": "3896a5f1",
   "metadata": {},
   "outputs": [
    {
     "name": "stdout",
     "output_type": "stream",
     "text": [
      "Requirement already satisfied: python-dotenv in /usr/local/Caskroom/miniconda/base/envs/ironhack/lib/python3.8/site-packages (0.19.1)\r\n"
     ]
    }
   ],
   "source": [
    "!pip install python-dotenv"
   ]
  },
  {
   "cell_type": "code",
   "execution_count": 4,
   "id": "6801f27b",
   "metadata": {},
   "outputs": [],
   "source": [
    "import os\n",
    "from dotenv import load_dotenv"
   ]
  },
  {
   "cell_type": "code",
   "execution_count": 5,
   "id": "c514981a",
   "metadata": {},
   "outputs": [
    {
     "name": "stdout",
     "output_type": "stream",
     "text": [
      "True\n"
     ]
    }
   ],
   "source": [
    "print(load_dotenv())"
   ]
  },
  {
   "cell_type": "code",
   "execution_count": 6,
   "id": "developing-printing",
   "metadata": {},
   "outputs": [],
   "source": [
    "github = os.getenv(\"token\")"
   ]
  },
  {
   "cell_type": "code",
   "execution_count": 7,
   "id": "b762008e",
   "metadata": {},
   "outputs": [],
   "source": [
    "# COMENZAMOS EL CHALLENGE II"
   ]
  },
  {
   "cell_type": "code",
   "execution_count": 52,
   "id": "creative-stable",
   "metadata": {},
   "outputs": [],
   "source": [
    "url_github = \"https://api.github.com/repos/Ironhack-Data-Madrid-Octubre-2021/apuntes_clase/commits\""
   ]
  },
  {
   "cell_type": "code",
   "execution_count": 53,
   "id": "4dd40c7f",
   "metadata": {},
   "outputs": [],
   "source": [
    "parameters = {\"Authorization\": f\"token {github}\"}"
   ]
  },
  {
   "cell_type": "code",
   "execution_count": 54,
   "id": "75c86bbd",
   "metadata": {},
   "outputs": [],
   "source": [
    "commits = requests.get(url_github, headers=parameters).json()"
   ]
  },
  {
   "cell_type": "code",
   "execution_count": 67,
   "id": "d2463d1d",
   "metadata": {},
   "outputs": [],
   "source": [
    "#commits"
   ]
  },
  {
   "cell_type": "code",
   "execution_count": 25,
   "id": "c78b9d48",
   "metadata": {},
   "outputs": [],
   "source": [
    "import pandas as pd"
   ]
  },
  {
   "cell_type": "code",
   "execution_count": 55,
   "id": "10535a4d",
   "metadata": {},
   "outputs": [
    {
     "data": {
      "text/html": [
       "<div>\n",
       "<style scoped>\n",
       "    .dataframe tbody tr th:only-of-type {\n",
       "        vertical-align: middle;\n",
       "    }\n",
       "\n",
       "    .dataframe tbody tr th {\n",
       "        vertical-align: top;\n",
       "    }\n",
       "\n",
       "    .dataframe thead th {\n",
       "        text-align: right;\n",
       "    }\n",
       "</style>\n",
       "<table border=\"1\" class=\"dataframe\">\n",
       "  <thead>\n",
       "    <tr style=\"text-align: right;\">\n",
       "      <th></th>\n",
       "      <th>sha</th>\n",
       "      <th>node_id</th>\n",
       "      <th>commit</th>\n",
       "      <th>url</th>\n",
       "      <th>html_url</th>\n",
       "      <th>comments_url</th>\n",
       "      <th>author</th>\n",
       "      <th>committer</th>\n",
       "      <th>parents</th>\n",
       "    </tr>\n",
       "  </thead>\n",
       "  <tbody>\n",
       "    <tr>\n",
       "      <th>0</th>\n",
       "      <td>81bd58708709cd9ecc702b9a6da1e3c5fc43f1fd</td>\n",
       "      <td>C_kwDOGMmVDNoAKDgxYmQ1ODcwODcwOWNkOWVjYzcwMmI5...</td>\n",
       "      <td>{'author': {'name': 'ras', 'email': 'agalvezco...</td>\n",
       "      <td>https://api.github.com/repos/Ironhack-Data-Mad...</td>\n",
       "      <td>https://github.com/Ironhack-Data-Madrid-Octubr...</td>\n",
       "      <td>https://api.github.com/repos/Ironhack-Data-Mad...</td>\n",
       "      <td>{'login': 'agalvezcorell', 'id': 57899051, 'no...</td>\n",
       "      <td>{'login': 'agalvezcorell', 'id': 57899051, 'no...</td>\n",
       "      <td>[{'sha': '54443a1672b0dcee97ed64e6f95154f0c09e...</td>\n",
       "    </tr>\n",
       "    <tr>\n",
       "      <th>1</th>\n",
       "      <td>54443a1672b0dcee97ed64e6f95154f0c09e7d19</td>\n",
       "      <td>C_kwDOGMmVDNoAKDU0NDQzYTE2NzJiMGRjZWU5N2VkNjRl...</td>\n",
       "      <td>{'author': {'name': 'ras', 'email': 'agalvezco...</td>\n",
       "      <td>https://api.github.com/repos/Ironhack-Data-Mad...</td>\n",
       "      <td>https://github.com/Ironhack-Data-Madrid-Octubr...</td>\n",
       "      <td>https://api.github.com/repos/Ironhack-Data-Mad...</td>\n",
       "      <td>{'login': 'agalvezcorell', 'id': 57899051, 'no...</td>\n",
       "      <td>{'login': 'agalvezcorell', 'id': 57899051, 'no...</td>\n",
       "      <td>[{'sha': '4398de83434cb99fc3031f1a11b217bc355f...</td>\n",
       "    </tr>\n",
       "    <tr>\n",
       "      <th>2</th>\n",
       "      <td>4398de83434cb99fc3031f1a11b217bc355fcbe9</td>\n",
       "      <td>C_kwDOGMmVDNoAKDQzOThkZTgzNDM0Y2I5OWZjMzAzMWYx...</td>\n",
       "      <td>{'author': {'name': 'ras', 'email': 'agalvezco...</td>\n",
       "      <td>https://api.github.com/repos/Ironhack-Data-Mad...</td>\n",
       "      <td>https://github.com/Ironhack-Data-Madrid-Octubr...</td>\n",
       "      <td>https://api.github.com/repos/Ironhack-Data-Mad...</td>\n",
       "      <td>{'login': 'agalvezcorell', 'id': 57899051, 'no...</td>\n",
       "      <td>{'login': 'agalvezcorell', 'id': 57899051, 'no...</td>\n",
       "      <td>[{'sha': '67adfa864beaa919da13d71b9dc187aaa559...</td>\n",
       "    </tr>\n",
       "    <tr>\n",
       "      <th>3</th>\n",
       "      <td>67adfa864beaa919da13d71b9dc187aaa559b6e3</td>\n",
       "      <td>C_kwDOGMmVDNoAKDY3YWRmYTg2NGJlYWE5MTlkYTEzZDcx...</td>\n",
       "      <td>{'author': {'name': 'ras', 'email': 'agalvezco...</td>\n",
       "      <td>https://api.github.com/repos/Ironhack-Data-Mad...</td>\n",
       "      <td>https://github.com/Ironhack-Data-Madrid-Octubr...</td>\n",
       "      <td>https://api.github.com/repos/Ironhack-Data-Mad...</td>\n",
       "      <td>{'login': 'agalvezcorell', 'id': 57899051, 'no...</td>\n",
       "      <td>{'login': 'agalvezcorell', 'id': 57899051, 'no...</td>\n",
       "      <td>[{'sha': '8ffe6c72e1ed04b55dedaf7d8214abe99683...</td>\n",
       "    </tr>\n",
       "    <tr>\n",
       "      <th>4</th>\n",
       "      <td>8ffe6c72e1ed04b55dedaf7d8214abe99683cb99</td>\n",
       "      <td>C_kwDOGMmVDNoAKDhmZmU2YzcyZTFlZDA0YjU1ZGVkYWY3...</td>\n",
       "      <td>{'author': {'name': 'ras', 'email': 'agalvezco...</td>\n",
       "      <td>https://api.github.com/repos/Ironhack-Data-Mad...</td>\n",
       "      <td>https://github.com/Ironhack-Data-Madrid-Octubr...</td>\n",
       "      <td>https://api.github.com/repos/Ironhack-Data-Mad...</td>\n",
       "      <td>{'login': 'agalvezcorell', 'id': 57899051, 'no...</td>\n",
       "      <td>{'login': 'agalvezcorell', 'id': 57899051, 'no...</td>\n",
       "      <td>[{'sha': '7a5f48d605105c3239ac12f8a65102405b2a...</td>\n",
       "    </tr>\n",
       "  </tbody>\n",
       "</table>\n",
       "</div>"
      ],
      "text/plain": [
       "                                        sha  \\\n",
       "0  81bd58708709cd9ecc702b9a6da1e3c5fc43f1fd   \n",
       "1  54443a1672b0dcee97ed64e6f95154f0c09e7d19   \n",
       "2  4398de83434cb99fc3031f1a11b217bc355fcbe9   \n",
       "3  67adfa864beaa919da13d71b9dc187aaa559b6e3   \n",
       "4  8ffe6c72e1ed04b55dedaf7d8214abe99683cb99   \n",
       "\n",
       "                                             node_id  \\\n",
       "0  C_kwDOGMmVDNoAKDgxYmQ1ODcwODcwOWNkOWVjYzcwMmI5...   \n",
       "1  C_kwDOGMmVDNoAKDU0NDQzYTE2NzJiMGRjZWU5N2VkNjRl...   \n",
       "2  C_kwDOGMmVDNoAKDQzOThkZTgzNDM0Y2I5OWZjMzAzMWYx...   \n",
       "3  C_kwDOGMmVDNoAKDY3YWRmYTg2NGJlYWE5MTlkYTEzZDcx...   \n",
       "4  C_kwDOGMmVDNoAKDhmZmU2YzcyZTFlZDA0YjU1ZGVkYWY3...   \n",
       "\n",
       "                                              commit  \\\n",
       "0  {'author': {'name': 'ras', 'email': 'agalvezco...   \n",
       "1  {'author': {'name': 'ras', 'email': 'agalvezco...   \n",
       "2  {'author': {'name': 'ras', 'email': 'agalvezco...   \n",
       "3  {'author': {'name': 'ras', 'email': 'agalvezco...   \n",
       "4  {'author': {'name': 'ras', 'email': 'agalvezco...   \n",
       "\n",
       "                                                 url  \\\n",
       "0  https://api.github.com/repos/Ironhack-Data-Mad...   \n",
       "1  https://api.github.com/repos/Ironhack-Data-Mad...   \n",
       "2  https://api.github.com/repos/Ironhack-Data-Mad...   \n",
       "3  https://api.github.com/repos/Ironhack-Data-Mad...   \n",
       "4  https://api.github.com/repos/Ironhack-Data-Mad...   \n",
       "\n",
       "                                            html_url  \\\n",
       "0  https://github.com/Ironhack-Data-Madrid-Octubr...   \n",
       "1  https://github.com/Ironhack-Data-Madrid-Octubr...   \n",
       "2  https://github.com/Ironhack-Data-Madrid-Octubr...   \n",
       "3  https://github.com/Ironhack-Data-Madrid-Octubr...   \n",
       "4  https://github.com/Ironhack-Data-Madrid-Octubr...   \n",
       "\n",
       "                                        comments_url  \\\n",
       "0  https://api.github.com/repos/Ironhack-Data-Mad...   \n",
       "1  https://api.github.com/repos/Ironhack-Data-Mad...   \n",
       "2  https://api.github.com/repos/Ironhack-Data-Mad...   \n",
       "3  https://api.github.com/repos/Ironhack-Data-Mad...   \n",
       "4  https://api.github.com/repos/Ironhack-Data-Mad...   \n",
       "\n",
       "                                              author  \\\n",
       "0  {'login': 'agalvezcorell', 'id': 57899051, 'no...   \n",
       "1  {'login': 'agalvezcorell', 'id': 57899051, 'no...   \n",
       "2  {'login': 'agalvezcorell', 'id': 57899051, 'no...   \n",
       "3  {'login': 'agalvezcorell', 'id': 57899051, 'no...   \n",
       "4  {'login': 'agalvezcorell', 'id': 57899051, 'no...   \n",
       "\n",
       "                                           committer  \\\n",
       "0  {'login': 'agalvezcorell', 'id': 57899051, 'no...   \n",
       "1  {'login': 'agalvezcorell', 'id': 57899051, 'no...   \n",
       "2  {'login': 'agalvezcorell', 'id': 57899051, 'no...   \n",
       "3  {'login': 'agalvezcorell', 'id': 57899051, 'no...   \n",
       "4  {'login': 'agalvezcorell', 'id': 57899051, 'no...   \n",
       "\n",
       "                                             parents  \n",
       "0  [{'sha': '54443a1672b0dcee97ed64e6f95154f0c09e...  \n",
       "1  [{'sha': '4398de83434cb99fc3031f1a11b217bc355f...  \n",
       "2  [{'sha': '67adfa864beaa919da13d71b9dc187aaa559...  \n",
       "3  [{'sha': '8ffe6c72e1ed04b55dedaf7d8214abe99683...  \n",
       "4  [{'sha': '7a5f48d605105c3239ac12f8a65102405b2a...  "
      ]
     },
     "execution_count": 55,
     "metadata": {},
     "output_type": "execute_result"
    }
   ],
   "source": [
    "df = pd.DataFrame(commits)\n",
    "df.head()"
   ]
  },
  {
   "cell_type": "code",
   "execution_count": 56,
   "id": "4c9ca248",
   "metadata": {},
   "outputs": [
    {
     "data": {
      "text/plain": [
       "'2021-11-04T12:46:24Z'"
      ]
     },
     "execution_count": 56,
     "metadata": {},
     "output_type": "execute_result"
    }
   ],
   "source": [
    "commits[1]['commit']['author']['date']"
   ]
  },
  {
   "cell_type": "code",
   "execution_count": 62,
   "id": "7624f1e8",
   "metadata": {},
   "outputs": [],
   "source": [
    "url_github2 = \"https://api.github.com/repos/Ironhack-Data-Madrid-Octubre-2021/apuntes_clase/commits?since='2021-11-02T12:46:24Z'\""
   ]
  },
  {
   "cell_type": "code",
   "execution_count": 63,
   "id": "69a97d74",
   "metadata": {},
   "outputs": [],
   "source": [
    "parameters = {\"Authorization\": f\"token {github}\"}"
   ]
  },
  {
   "cell_type": "code",
   "execution_count": 64,
   "id": "e7d553c4",
   "metadata": {},
   "outputs": [],
   "source": [
    "commits2 = requests.get(url_github2, headers=parameters).json()"
   ]
  },
  {
   "cell_type": "code",
   "execution_count": 65,
   "id": "bc9e4c6f",
   "metadata": {},
   "outputs": [
    {
     "data": {
      "text/plain": [
       "14"
      ]
     },
     "execution_count": 65,
     "metadata": {},
     "output_type": "execute_result"
    }
   ],
   "source": [
    "len(commits2)"
   ]
  },
  {
   "cell_type": "code",
   "execution_count": null,
   "id": "2171b258",
   "metadata": {},
   "outputs": [],
   "source": []
  }
 ],
 "metadata": {
  "kernelspec": {
   "display_name": "ironhack",
   "language": "python",
   "name": "ironhack"
  },
  "language_info": {
   "codemirror_mode": {
    "name": "ipython",
    "version": 3
   },
   "file_extension": ".py",
   "mimetype": "text/x-python",
   "name": "python",
   "nbconvert_exporter": "python",
   "pygments_lexer": "ipython3",
   "version": "3.8.12"
  },
  "toc": {
   "base_numbering": 1,
   "nav_menu": {},
   "number_sections": true,
   "sideBar": true,
   "skip_h1_title": true,
   "title_cell": "Table of Contents",
   "title_sidebar": "Contents",
   "toc_cell": false,
   "toc_position": {
    "height": "calc(100% - 180px)",
    "left": "10px",
    "top": "150px",
    "width": "288px"
   },
   "toc_section_display": true,
   "toc_window_display": true
  }
 },
 "nbformat": 4,
 "nbformat_minor": 5
}
