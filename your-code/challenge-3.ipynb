{
 "cells": [
  {
   "cell_type": "markdown",
   "id": "defensive-clock",
   "metadata": {},
   "source": [
    "# Challenge 3: Hidden Cold Joke\n",
    "\n",
    "Using Python, call Github API to find out the cold joke contained in the 24 secret files in the following repo:\n",
    "\n",
    "https://github.com/ironhack-datalabs/scavenger\n",
    "\n",
    "The filenames of the secret files contain .scavengerhunt and they are scattered in different directories of this repo. The secret files are named from .0001.scavengerhunt to .0024.scavengerhunt. They are scattered randomly throughout this repo. You need to search for these files by calling the Github API, not searching the local files on your computer.\n",
    "\n",
    "\n",
    "After you find out the secrete files:\n",
    "\n",
    "Sort the filenames ascendingly.\n",
    "\n",
    "Read the content of each secret files into an array of strings.\n",
    "\n",
    "Concatenate the strings in the array separating each two with a whitespace.\n",
    "\n",
    "Print out the joke."
   ]
  },
  {
   "cell_type": "markdown",
   "id": "universal-length",
   "metadata": {},
   "source": [
    "⚠️ **Remember to limit your output before submission**."
   ]
  },
  {
   "cell_type": "code",
   "execution_count": 1,
   "id": "toxic-trading",
   "metadata": {},
   "outputs": [],
   "source": [
    "import json\n",
    "import requests"
   ]
  },
  {
   "cell_type": "code",
   "execution_count": 2,
   "id": "00ca3194",
   "metadata": {},
   "outputs": [
    {
     "name": "stdout",
     "output_type": "stream",
     "text": [
      "Requirement already satisfied: python-dotenv in /usr/local/Caskroom/miniconda/base/envs/ironhack/lib/python3.8/site-packages (0.19.1)\n",
      "True\n"
     ]
    }
   ],
   "source": [
    "!pip install python-dotenv\n",
    "import os\n",
    "from dotenv import load_dotenv\n",
    "print(load_dotenv())"
   ]
  },
  {
   "cell_type": "code",
   "execution_count": 10,
   "id": "ea44b10a",
   "metadata": {},
   "outputs": [],
   "source": [
    "github = os.getenv(\"token\")\n",
    "url_github = \"https://api.github.com/repos/ironhack-datalabs/scavenger/contents\"\n",
    "parameters = {\"Authorization\": f\"token {github}\"}\n",
    "sc_hunt = requests.get(url_github, headers=parameters).json()"
   ]
  },
  {
   "cell_type": "code",
   "execution_count": 11,
   "id": "7ff4e581",
   "metadata": {},
   "outputs": [
    {
     "data": {
      "text/plain": [
       "26"
      ]
     },
     "execution_count": 11,
     "metadata": {},
     "output_type": "execute_result"
    }
   ],
   "source": [
    "len(sc_hunt)"
   ]
  },
  {
   "cell_type": "code",
   "execution_count": 17,
   "id": "e079dfa9",
   "metadata": {},
   "outputs": [],
   "source": [
    "#sc_hunt"
   ]
  },
  {
   "cell_type": "code",
   "execution_count": 13,
   "id": "13327407",
   "metadata": {},
   "outputs": [
    {
     "name": "stdout",
     "output_type": "stream",
     "text": [
      "['.gitignore', '15024', '15534', '17020', '30351', '40303', '44639', '45525', '47222', '47830', '49418', '50896', '55417', '55685', '60224', '64880', '66032', '68848', '70751', '70985', '88596', '89046', '89338', '91701', '97881', '98750']\n"
     ]
    }
   ],
   "source": [
    "list_folder = []\n",
    "\n",
    "for i in sc_hunt:\n",
    "    list_folder.append(i['name'])\n",
    "\n",
    "print(list_folder)"
   ]
  },
  {
   "cell_type": "code",
   "execution_count": 19,
   "id": "40340b28",
   "metadata": {},
   "outputs": [
    {
     "data": {
      "text/plain": [
       "['https://api.github.com/repos/ironhack-datalabs/scavenger/contents/.gitignore',\n",
       " 'https://api.github.com/repos/ironhack-datalabs/scavenger/contents/15024',\n",
       " 'https://api.github.com/repos/ironhack-datalabs/scavenger/contents/15534',\n",
       " 'https://api.github.com/repos/ironhack-datalabs/scavenger/contents/17020',\n",
       " 'https://api.github.com/repos/ironhack-datalabs/scavenger/contents/30351',\n",
       " 'https://api.github.com/repos/ironhack-datalabs/scavenger/contents/40303',\n",
       " 'https://api.github.com/repos/ironhack-datalabs/scavenger/contents/44639',\n",
       " 'https://api.github.com/repos/ironhack-datalabs/scavenger/contents/45525',\n",
       " 'https://api.github.com/repos/ironhack-datalabs/scavenger/contents/47222',\n",
       " 'https://api.github.com/repos/ironhack-datalabs/scavenger/contents/47830',\n",
       " 'https://api.github.com/repos/ironhack-datalabs/scavenger/contents/49418',\n",
       " 'https://api.github.com/repos/ironhack-datalabs/scavenger/contents/50896',\n",
       " 'https://api.github.com/repos/ironhack-datalabs/scavenger/contents/55417',\n",
       " 'https://api.github.com/repos/ironhack-datalabs/scavenger/contents/55685',\n",
       " 'https://api.github.com/repos/ironhack-datalabs/scavenger/contents/60224',\n",
       " 'https://api.github.com/repos/ironhack-datalabs/scavenger/contents/64880',\n",
       " 'https://api.github.com/repos/ironhack-datalabs/scavenger/contents/66032',\n",
       " 'https://api.github.com/repos/ironhack-datalabs/scavenger/contents/68848',\n",
       " 'https://api.github.com/repos/ironhack-datalabs/scavenger/contents/70751',\n",
       " 'https://api.github.com/repos/ironhack-datalabs/scavenger/contents/70985',\n",
       " 'https://api.github.com/repos/ironhack-datalabs/scavenger/contents/88596',\n",
       " 'https://api.github.com/repos/ironhack-datalabs/scavenger/contents/89046',\n",
       " 'https://api.github.com/repos/ironhack-datalabs/scavenger/contents/89338',\n",
       " 'https://api.github.com/repos/ironhack-datalabs/scavenger/contents/91701',\n",
       " 'https://api.github.com/repos/ironhack-datalabs/scavenger/contents/97881',\n",
       " 'https://api.github.com/repos/ironhack-datalabs/scavenger/contents/98750']"
      ]
     },
     "execution_count": 19,
     "metadata": {},
     "output_type": "execute_result"
    }
   ],
   "source": [
    "lista_repositorios = []\n",
    "\n",
    "for i in list_folder:\n",
    "    url_hunt = f'https://api.github.com/repos/ironhack-datalabs/scavenger/contents/{i}'\n",
    "    lista_repositorios.append(url_hunt)\n",
    "    \n",
    "lista_repositorios"
   ]
  },
  {
   "cell_type": "code",
   "execution_count": null,
   "id": "28ef6ae9",
   "metadata": {},
   "outputs": [],
   "source": []
  }
 ],
 "metadata": {
  "kernelspec": {
   "display_name": "ironhack",
   "language": "python",
   "name": "ironhack"
  },
  "language_info": {
   "codemirror_mode": {
    "name": "ipython",
    "version": 3
   },
   "file_extension": ".py",
   "mimetype": "text/x-python",
   "name": "python",
   "nbconvert_exporter": "python",
   "pygments_lexer": "ipython3",
   "version": "3.8.12"
  },
  "toc": {
   "base_numbering": 1,
   "nav_menu": {},
   "number_sections": true,
   "sideBar": true,
   "skip_h1_title": true,
   "title_cell": "Table of Contents",
   "title_sidebar": "Contents",
   "toc_cell": false,
   "toc_position": {},
   "toc_section_display": true,
   "toc_window_display": true
  }
 },
 "nbformat": 4,
 "nbformat_minor": 5
}
